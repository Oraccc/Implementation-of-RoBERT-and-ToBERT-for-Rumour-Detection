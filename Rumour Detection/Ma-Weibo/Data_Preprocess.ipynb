{
 "cells": [
  {
   "cell_type": "code",
   "execution_count": 1,
   "id": "a18ca1cd",
   "metadata": {},
   "outputs": [],
   "source": [
    "import pandas\n",
    "import os\n",
    "import json\n",
    "import numpy as np"
   ]
  },
  {
   "cell_type": "code",
   "execution_count": 2,
   "id": "49d413bb",
   "metadata": {},
   "outputs": [],
   "source": [
    "base_path = './data/Weibo'\n",
    "title = ['text_comments','text_only','comments_only','label','count']\n",
    "csv_list = []"
   ]
  },
  {
   "cell_type": "code",
   "execution_count": 3,
   "id": "ecded6ad",
   "metadata": {},
   "outputs": [],
   "source": [
    "with open('./data/Weibo.txt','r',encoding = 'utf-8') as file:\n",
    "    for each_line in file:\n",
    "        text_comments = ''\n",
    "        text_only = ''\n",
    "        comments_only = ''\n",
    "        count = 0\n",
    "        info_list = each_line.split(' ')[0].split('\\t')\n",
    "        eid = info_list[0][4:]\n",
    "        \n",
    "        label = 'rumour' if int(info_list[1][-1:]) else 'nonrumour'\n",
    "        \n",
    "        eid_path = eid + '.json'\n",
    "        json_path = os.path.join(base_path,eid_path)\n",
    "        with open(json_path, 'r', encoding='utf-8') as file:\n",
    "            json_data = json.load(file)\n",
    "            \n",
    "            text_comments += json_data[0]['text']\n",
    "            text_comments += '[SEP]'\n",
    "            text_only += json_data[0]['text']\n",
    "            text_only += '[SEP]'\n",
    "            \n",
    "            for i in range(1,len(json_data)):\n",
    "                if json_data[i]['text'] == '' or '转发微博' in json_data[i]['text'] or '轉發微博' in json_data[i]['text']:\n",
    "                    continue\n",
    "                text_comments += json_data[i]['text']\n",
    "                text_comments += '[SEP]'\n",
    "                comments_only += json_data[i]['text']\n",
    "                comments_only += '[SEP]'\n",
    "                count += 1\n",
    "                \n",
    "        item_list = [text_comments,text_only,comments_only,label,count]\n",
    "        csv_list.append(item_list)\n",
    "        "
   ]
  },
  {
   "cell_type": "code",
   "execution_count": 4,
   "id": "df5df96e",
   "metadata": {},
   "outputs": [],
   "source": [
    "csv_file=pandas.DataFrame(columns=title,data=csv_list)\n",
    "csv_file.to_csv('./data/raw_data.csv',index = 0)"
   ]
  },
  {
   "cell_type": "code",
   "execution_count": null,
   "id": "18986084",
   "metadata": {},
   "outputs": [],
   "source": []
  }
 ],
 "metadata": {
  "kernelspec": {
   "display_name": "Python 3",
   "language": "python",
   "name": "python3"
  },
  "language_info": {
   "codemirror_mode": {
    "name": "ipython",
    "version": 3
   },
   "file_extension": ".py",
   "mimetype": "text/x-python",
   "name": "python",
   "nbconvert_exporter": "python",
   "pygments_lexer": "ipython3",
   "version": "3.7.11"
  },
  "toc": {
   "base_numbering": 1,
   "nav_menu": {},
   "number_sections": true,
   "sideBar": true,
   "skip_h1_title": false,
   "title_cell": "Table of Contents",
   "title_sidebar": "Contents",
   "toc_cell": false,
   "toc_position": {},
   "toc_section_display": true,
   "toc_window_display": false
  }
 },
 "nbformat": 4,
 "nbformat_minor": 5
}
